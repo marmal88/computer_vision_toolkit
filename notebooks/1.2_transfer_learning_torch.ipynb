{
 "cells": [
  {
   "attachments": {},
   "cell_type": "markdown",
   "metadata": {},
   "source": [
    "# Transfer Learning for Pretrained Models"
   ]
  },
  {
   "attachments": {},
   "cell_type": "markdown",
   "metadata": {},
   "source": [
    "### 1. Import dependencies"
   ]
  },
  {
   "cell_type": "code",
   "execution_count": 1,
   "metadata": {},
   "outputs": [
    {
     "name": "stderr",
     "output_type": "stream",
     "text": [
      "/home/oem/miniconda3/envs/skin_cancer/lib/python3.9/site-packages/tqdm/auto.py:22: TqdmWarning: IProgress not found. Please update jupyter and ipywidgets. See https://ipywidgets.readthedocs.io/en/stable/user_install.html\n",
      "  from .autonotebook import tqdm as notebook_tqdm\n"
     ]
    }
   ],
   "source": [
    "import os\n",
    "import pandas as pd\n",
    "\n",
    "import torch\n",
    "from torch.utils.data import DataLoader\n",
    "from torchvision import transforms as T\n",
    "from PIL import Image\n",
    "from typing import List\n",
    "\n",
    "# from datasets import load_dataset"
   ]
  },
  {
   "attachments": {},
   "cell_type": "markdown",
   "metadata": {},
   "source": [
    "### 2.1 Load dataset (Hugging Face)\n",
    "\n",
    "Please choose to either load from 2.1 hugging face or 2.2 from file dataset was previously uploaded to huggingface."
   ]
  },
  {
   "cell_type": "code",
   "execution_count": 2,
   "metadata": {},
   "outputs": [],
   "source": [
    "# dataset = load_dataset(\"marmal88/skin_cancer\")\n",
    "# dataset.set_format(type='torch', columns=['image', 'image_id', 'lesion_id', 'dx', 'dx_type', 'age', 'sex', 'localization'])\n",
    "\n",
    "# # print to get the names of the sets within the dataset\n",
    "# print(dataset.__getitem__)"
   ]
  },
  {
   "attachments": {},
   "cell_type": "markdown",
   "metadata": {},
   "source": [
    "### 2.2 Load dataset from file"
   ]
  },
  {
   "cell_type": "code",
   "execution_count": 3,
   "metadata": {},
   "outputs": [
    {
     "data": {
      "text/plain": [
       "'/home/oem/Documents/coding/personal/skin_cancer'"
      ]
     },
     "execution_count": 3,
     "metadata": {},
     "output_type": "execute_result"
    }
   ],
   "source": [
    "# insert your own root directory\n",
    "path_to_root = \"/home/oem/Documents/coding/personal/computer_vision_toolkit\"\n",
    "os.chdir(path_to_root)\n",
    "os.getcwd()"
   ]
  },
  {
   "cell_type": "code",
   "execution_count": 4,
   "metadata": {},
   "outputs": [
    {
     "data": {
      "text/html": [
       "<div>\n",
       "<style scoped>\n",
       "    .dataframe tbody tr th:only-of-type {\n",
       "        vertical-align: middle;\n",
       "    }\n",
       "\n",
       "    .dataframe tbody tr th {\n",
       "        vertical-align: top;\n",
       "    }\n",
       "\n",
       "    .dataframe thead th {\n",
       "        text-align: right;\n",
       "    }\n",
       "</style>\n",
       "<table border=\"1\" class=\"dataframe\">\n",
       "  <thead>\n",
       "    <tr style=\"text-align: right;\">\n",
       "      <th></th>\n",
       "      <th>file_name</th>\n",
       "      <th>image_id</th>\n",
       "      <th>lesion_id</th>\n",
       "      <th>dx</th>\n",
       "      <th>dx_type</th>\n",
       "      <th>age</th>\n",
       "      <th>sex</th>\n",
       "      <th>localization</th>\n",
       "      <th>label</th>\n",
       "    </tr>\n",
       "  </thead>\n",
       "  <tbody>\n",
       "    <tr>\n",
       "      <th>0</th>\n",
       "      <td>data/ham10000_images_part_2/ISIC_0031774.jpg</td>\n",
       "      <td>ISIC_0031774</td>\n",
       "      <td>HAM_0002275</td>\n",
       "      <td>melanocytic_Nevi</td>\n",
       "      <td>follow_up</td>\n",
       "      <td>45.0</td>\n",
       "      <td>female</td>\n",
       "      <td>lower extremity</td>\n",
       "      <td>0</td>\n",
       "    </tr>\n",
       "    <tr>\n",
       "      <th>1</th>\n",
       "      <td>data/ham10000_images_part_2/ISIC_0030527.jpg</td>\n",
       "      <td>ISIC_0030527</td>\n",
       "      <td>HAM_0006713</td>\n",
       "      <td>melanocytic_Nevi</td>\n",
       "      <td>follow_up</td>\n",
       "      <td>50.0</td>\n",
       "      <td>female</td>\n",
       "      <td>trunk</td>\n",
       "      <td>0</td>\n",
       "    </tr>\n",
       "    <tr>\n",
       "      <th>2</th>\n",
       "      <td>data/ham10000_images_part_2/ISIC_0033561.jpg</td>\n",
       "      <td>ISIC_0033561</td>\n",
       "      <td>HAM_0004708</td>\n",
       "      <td>melanocytic_Nevi</td>\n",
       "      <td>histo</td>\n",
       "      <td>45.0</td>\n",
       "      <td>male</td>\n",
       "      <td>trunk</td>\n",
       "      <td>0</td>\n",
       "    </tr>\n",
       "    <tr>\n",
       "      <th>3</th>\n",
       "      <td>data/ham10000_images_part_2/ISIC_0034041.jpg</td>\n",
       "      <td>ISIC_0034041</td>\n",
       "      <td>HAM_0005496</td>\n",
       "      <td>melanocytic_Nevi</td>\n",
       "      <td>histo</td>\n",
       "      <td>15.0</td>\n",
       "      <td>female</td>\n",
       "      <td>lower extremity</td>\n",
       "      <td>0</td>\n",
       "    </tr>\n",
       "    <tr>\n",
       "      <th>4</th>\n",
       "      <td>data/ham10000_images_part_2/ISIC_0031369.jpg</td>\n",
       "      <td>ISIC_0031369</td>\n",
       "      <td>HAM_0000531</td>\n",
       "      <td>melanoma</td>\n",
       "      <td>histo</td>\n",
       "      <td>85.0</td>\n",
       "      <td>male</td>\n",
       "      <td>face</td>\n",
       "      <td>1</td>\n",
       "    </tr>\n",
       "    <tr>\n",
       "      <th>5</th>\n",
       "      <td>data/ham10000_images_part_2/ISIC_0033179.jpg</td>\n",
       "      <td>ISIC_0033179</td>\n",
       "      <td>HAM_0002898</td>\n",
       "      <td>melanocytic_Nevi</td>\n",
       "      <td>histo</td>\n",
       "      <td>80.0</td>\n",
       "      <td>female</td>\n",
       "      <td>upper extremity</td>\n",
       "      <td>0</td>\n",
       "    </tr>\n",
       "    <tr>\n",
       "      <th>6</th>\n",
       "      <td>data/ham10000_images_part_2/ISIC_0030478.jpg</td>\n",
       "      <td>ISIC_0030478</td>\n",
       "      <td>HAM_0000894</td>\n",
       "      <td>melanocytic_Nevi</td>\n",
       "      <td>follow_up</td>\n",
       "      <td>45.0</td>\n",
       "      <td>female</td>\n",
       "      <td>upper extremity</td>\n",
       "      <td>0</td>\n",
       "    </tr>\n",
       "    <tr>\n",
       "      <th>7</th>\n",
       "      <td>data/ham10000_images_part_2/ISIC_0029344.jpg</td>\n",
       "      <td>ISIC_0029344</td>\n",
       "      <td>HAM_0004638</td>\n",
       "      <td>melanocytic_Nevi</td>\n",
       "      <td>histo</td>\n",
       "      <td>45.0</td>\n",
       "      <td>female</td>\n",
       "      <td>back</td>\n",
       "      <td>0</td>\n",
       "    </tr>\n",
       "    <tr>\n",
       "      <th>8</th>\n",
       "      <td>data/ham10000_images_part_2/ISIC_0030824.jpg</td>\n",
       "      <td>ISIC_0030824</td>\n",
       "      <td>HAM_0000330</td>\n",
       "      <td>melanoma</td>\n",
       "      <td>histo</td>\n",
       "      <td>60.0</td>\n",
       "      <td>male</td>\n",
       "      <td>chest</td>\n",
       "      <td>1</td>\n",
       "    </tr>\n",
       "    <tr>\n",
       "      <th>9</th>\n",
       "      <td>data/ham10000_images_part_2/ISIC_0032773.jpg</td>\n",
       "      <td>ISIC_0032773</td>\n",
       "      <td>HAM_0000571</td>\n",
       "      <td>benign_keratosis-like_lesions</td>\n",
       "      <td>consensus</td>\n",
       "      <td>70.0</td>\n",
       "      <td>male</td>\n",
       "      <td>back</td>\n",
       "      <td>2</td>\n",
       "    </tr>\n",
       "  </tbody>\n",
       "</table>\n",
       "</div>"
      ],
      "text/plain": [
       "                                      file_name      image_id    lesion_id  \\\n",
       "0  data/ham10000_images_part_2/ISIC_0031774.jpg  ISIC_0031774  HAM_0002275   \n",
       "1  data/ham10000_images_part_2/ISIC_0030527.jpg  ISIC_0030527  HAM_0006713   \n",
       "2  data/ham10000_images_part_2/ISIC_0033561.jpg  ISIC_0033561  HAM_0004708   \n",
       "3  data/ham10000_images_part_2/ISIC_0034041.jpg  ISIC_0034041  HAM_0005496   \n",
       "4  data/ham10000_images_part_2/ISIC_0031369.jpg  ISIC_0031369  HAM_0000531   \n",
       "5  data/ham10000_images_part_2/ISIC_0033179.jpg  ISIC_0033179  HAM_0002898   \n",
       "6  data/ham10000_images_part_2/ISIC_0030478.jpg  ISIC_0030478  HAM_0000894   \n",
       "7  data/ham10000_images_part_2/ISIC_0029344.jpg  ISIC_0029344  HAM_0004638   \n",
       "8  data/ham10000_images_part_2/ISIC_0030824.jpg  ISIC_0030824  HAM_0000330   \n",
       "9  data/ham10000_images_part_2/ISIC_0032773.jpg  ISIC_0032773  HAM_0000571   \n",
       "\n",
       "                              dx    dx_type   age     sex     localization  \\\n",
       "0               melanocytic_Nevi  follow_up  45.0  female  lower extremity   \n",
       "1               melanocytic_Nevi  follow_up  50.0  female            trunk   \n",
       "2               melanocytic_Nevi      histo  45.0    male            trunk   \n",
       "3               melanocytic_Nevi      histo  15.0  female  lower extremity   \n",
       "4                       melanoma      histo  85.0    male             face   \n",
       "5               melanocytic_Nevi      histo  80.0  female  upper extremity   \n",
       "6               melanocytic_Nevi  follow_up  45.0  female  upper extremity   \n",
       "7               melanocytic_Nevi      histo  45.0  female             back   \n",
       "8                       melanoma      histo  60.0    male            chest   \n",
       "9  benign_keratosis-like_lesions  consensus  70.0    male             back   \n",
       "\n",
       "   label  \n",
       "0      0  \n",
       "1      0  \n",
       "2      0  \n",
       "3      0  \n",
       "4      1  \n",
       "5      0  \n",
       "6      0  \n",
       "7      0  \n",
       "8      1  \n",
       "9      2  "
      ]
     },
     "execution_count": 4,
     "metadata": {},
     "output_type": "execute_result"
    }
   ],
   "source": [
    "df = pd.read_csv(os.path.join(os.getcwd(), \"notebooks/dataset.csv\"))\n",
    "df.head(10)"
   ]
  },
  {
   "cell_type": "code",
   "execution_count": 5,
   "metadata": {},
   "outputs": [],
   "source": [
    "# transforming the labels to numeric\n",
    "lesion_type_dict = {\n",
    "    'melanocytic_Nevi': 0,\n",
    "    'melanoma': 1,\n",
    "    'benign_keratosis-like_lesions': 2,\n",
    "    'basal_cell_carcinoma': 3,\n",
    "    'actinic_keratoses': 4,\n",
    "    'vascular_lesions': 5,\n",
    "    'dermatofibroma': 6\n",
    "}\n",
    "\n",
    "df['label'] = df.dx.map(lesion_type_dict)\n",
    "df['label'] = df[\"label\"].astype(int)\n",
    "df.to_csv(\"notebooks/dataset.csv\", index=False)"
   ]
  },
  {
   "cell_type": "code",
   "execution_count": 6,
   "metadata": {},
   "outputs": [
    {
     "data": {
      "text/html": [
       "<div>\n",
       "<style scoped>\n",
       "    .dataframe tbody tr th:only-of-type {\n",
       "        vertical-align: middle;\n",
       "    }\n",
       "\n",
       "    .dataframe tbody tr th {\n",
       "        vertical-align: top;\n",
       "    }\n",
       "\n",
       "    .dataframe thead th {\n",
       "        text-align: right;\n",
       "    }\n",
       "</style>\n",
       "<table border=\"1\" class=\"dataframe\">\n",
       "  <thead>\n",
       "    <tr style=\"text-align: right;\">\n",
       "      <th></th>\n",
       "      <th>file_name</th>\n",
       "      <th>image_id</th>\n",
       "      <th>lesion_id</th>\n",
       "      <th>dx</th>\n",
       "      <th>dx_type</th>\n",
       "      <th>age</th>\n",
       "      <th>sex</th>\n",
       "      <th>localization</th>\n",
       "      <th>label</th>\n",
       "    </tr>\n",
       "  </thead>\n",
       "  <tbody>\n",
       "    <tr>\n",
       "      <th>0</th>\n",
       "      <td>data/ham10000_images_part_2/ISIC_0031774.jpg</td>\n",
       "      <td>ISIC_0031774</td>\n",
       "      <td>HAM_0002275</td>\n",
       "      <td>melanocytic_Nevi</td>\n",
       "      <td>follow_up</td>\n",
       "      <td>45.0</td>\n",
       "      <td>female</td>\n",
       "      <td>lower extremity</td>\n",
       "      <td>0</td>\n",
       "    </tr>\n",
       "    <tr>\n",
       "      <th>1</th>\n",
       "      <td>data/ham10000_images_part_2/ISIC_0030527.jpg</td>\n",
       "      <td>ISIC_0030527</td>\n",
       "      <td>HAM_0006713</td>\n",
       "      <td>melanocytic_Nevi</td>\n",
       "      <td>follow_up</td>\n",
       "      <td>50.0</td>\n",
       "      <td>female</td>\n",
       "      <td>trunk</td>\n",
       "      <td>0</td>\n",
       "    </tr>\n",
       "    <tr>\n",
       "      <th>2</th>\n",
       "      <td>data/ham10000_images_part_2/ISIC_0033561.jpg</td>\n",
       "      <td>ISIC_0033561</td>\n",
       "      <td>HAM_0004708</td>\n",
       "      <td>melanocytic_Nevi</td>\n",
       "      <td>histo</td>\n",
       "      <td>45.0</td>\n",
       "      <td>male</td>\n",
       "      <td>trunk</td>\n",
       "      <td>0</td>\n",
       "    </tr>\n",
       "    <tr>\n",
       "      <th>3</th>\n",
       "      <td>data/ham10000_images_part_2/ISIC_0034041.jpg</td>\n",
       "      <td>ISIC_0034041</td>\n",
       "      <td>HAM_0005496</td>\n",
       "      <td>melanocytic_Nevi</td>\n",
       "      <td>histo</td>\n",
       "      <td>15.0</td>\n",
       "      <td>female</td>\n",
       "      <td>lower extremity</td>\n",
       "      <td>0</td>\n",
       "    </tr>\n",
       "    <tr>\n",
       "      <th>4</th>\n",
       "      <td>data/ham10000_images_part_2/ISIC_0031369.jpg</td>\n",
       "      <td>ISIC_0031369</td>\n",
       "      <td>HAM_0000531</td>\n",
       "      <td>melanoma</td>\n",
       "      <td>histo</td>\n",
       "      <td>85.0</td>\n",
       "      <td>male</td>\n",
       "      <td>face</td>\n",
       "      <td>1</td>\n",
       "    </tr>\n",
       "  </tbody>\n",
       "</table>\n",
       "</div>"
      ],
      "text/plain": [
       "                                      file_name      image_id    lesion_id  \\\n",
       "0  data/ham10000_images_part_2/ISIC_0031774.jpg  ISIC_0031774  HAM_0002275   \n",
       "1  data/ham10000_images_part_2/ISIC_0030527.jpg  ISIC_0030527  HAM_0006713   \n",
       "2  data/ham10000_images_part_2/ISIC_0033561.jpg  ISIC_0033561  HAM_0004708   \n",
       "3  data/ham10000_images_part_2/ISIC_0034041.jpg  ISIC_0034041  HAM_0005496   \n",
       "4  data/ham10000_images_part_2/ISIC_0031369.jpg  ISIC_0031369  HAM_0000531   \n",
       "\n",
       "                 dx    dx_type   age     sex     localization  label  \n",
       "0  melanocytic_Nevi  follow_up  45.0  female  lower extremity      0  \n",
       "1  melanocytic_Nevi  follow_up  50.0  female            trunk      0  \n",
       "2  melanocytic_Nevi      histo  45.0    male            trunk      0  \n",
       "3  melanocytic_Nevi      histo  15.0  female  lower extremity      0  \n",
       "4          melanoma      histo  85.0    male             face      1  "
      ]
     },
     "execution_count": 6,
     "metadata": {},
     "output_type": "execute_result"
    }
   ],
   "source": [
    "df.head()"
   ]
  },
  {
   "cell_type": "code",
   "execution_count": 7,
   "metadata": {},
   "outputs": [],
   "source": [
    "from src.dataset import CustomImageDataset "
   ]
  },
  {
   "cell_type": "code",
   "execution_count": 8,
   "metadata": {},
   "outputs": [],
   "source": [
    "# mean and standard dev as per pre-trained imagenet dataset (https://pytorch.org/hub/pytorch_vision_resnet/)\n",
    "mean = [0.485, 0.456, 0.406]\n",
    "std = [0.229, 0.224, 0.225]\n",
    "\n",
    "transform = T.Compose([\n",
    "            T.Resize([224,224]),\n",
    "            T.ToTensor(),\n",
    "            # normalize mean and std from imagenet pretrained\n",
    "            T.Normalize(mean=mean, std=std),\n",
    "            ])\n",
    "\n",
    "dataset = CustomImageDataset(\"notebooks/dataset.csv\", transform)"
   ]
  },
  {
   "attachments": {},
   "cell_type": "markdown",
   "metadata": {},
   "source": [
    "### 3. Transform original \n",
    "\n",
    "Split and transform the dataset into train, validation and test sets"
   ]
  },
  {
   "cell_type": "code",
   "execution_count": 9,
   "metadata": {},
   "outputs": [],
   "source": [
    "train_set, val_set, test_set = torch.utils.data.random_split(dataset, [8000, 2000, 15])"
   ]
  },
  {
   "cell_type": "code",
   "execution_count": 10,
   "metadata": {},
   "outputs": [],
   "source": [
    "# load the respective train validation and test split to dataloader\n",
    "train_loader = DataLoader(train_set, batch_size=5, shuffle=True)\n",
    "val_loader = DataLoader(val_set, batch_size=5, shuffle=True)\n",
    "test_loader = DataLoader(test_set, batch_size=5, shuffle=True)"
   ]
  },
  {
   "attachments": {},
   "cell_type": "markdown",
   "metadata": {},
   "source": [
    "### 4. Model training\n"
   ]
  },
  {
   "cell_type": "code",
   "execution_count": 11,
   "metadata": {},
   "outputs": [],
   "source": [
    "import torch.nn as nn\n",
    "from torch.optim import Adam\n",
    "import torchvision \n",
    "from torchvision.models import resnet50, ResNet50_Weights"
   ]
  },
  {
   "cell_type": "code",
   "execution_count": 12,
   "metadata": {},
   "outputs": [],
   "source": [
    "num_class = df.label.nunique()\n",
    "learning_rate = 0.001\n",
    "epochs = 5"
   ]
  },
  {
   "cell_type": "code",
   "execution_count": 13,
   "metadata": {},
   "outputs": [],
   "source": [
    "class ClassifierModel(nn.Module):\n",
    "    \"\"\" The classic transfer learning template where the models can be swapped out\n",
    "        for other types depending on senario \n",
    "    \"\"\"    \n",
    "    def __init__(self, num_class:int):\n",
    "        \"\"\" Initializes the ClassifierModel instance\n",
    "            The super here inherits the functions from the base torch nn.Module, allowing \n",
    "            us to create layers and convolutions.\n",
    "            Added a dropout to the last linear layer and amended out_features to num_class\n",
    "        Args:\n",
    "            num_class (int): The number of classes in the classification problem.\n",
    "        \"\"\"        \n",
    "        super().__init__()\n",
    "        self.model = torchvision.models.resnet50(weights=ResNet50_Weights.IMAGENET1K_V2)\n",
    "        num_ftrs = self.model.fc.in_features\n",
    "        self.model.fc = nn.Sequential(\n",
    "                            nn.Dropout(0.5), \n",
    "                            nn.Linear(num_ftrs, num_class)\n",
    "                            )\n",
    "\n",
    "    def forward(self, x:torch.Tensor)-> torch.Tensor:\n",
    "        x = self.model(x)\n",
    "        return x"
   ]
  },
  {
   "cell_type": "code",
   "execution_count": 14,
   "metadata": {},
   "outputs": [],
   "source": [
    "\n",
    "model = ClassifierModel(num_class)\n",
    "loss_fn = nn.CrossEntropyLoss()\n",
    "optimizer = Adam(model.parameters(), lr=learning_rate) "
   ]
  },
  {
   "cell_type": "code",
   "execution_count": 15,
   "metadata": {},
   "outputs": [
    {
     "name": "stdout",
     "output_type": "stream",
     "text": [
      "current epoch 0\n"
     ]
    }
   ],
   "source": [
    "for epoch in range(epochs):\n",
    "    print(f\"current epoch {epoch}\")\n",
    "    for img, label in train_loader:\n",
    "        optimizer.zero_grad()\n",
    "        output = model(img)\n",
    "        loss = loss_fn(output, label)\n",
    "        loss.backward()\n",
    "        optimizer.step()\n",
    "\n",
    "with torch.no_grad():\n",
    "    correct = 0\n",
    "    total = 0\n",
    "    for img, label in train_loader:\n",
    "        print(\"Evaluation loop starts\")\n",
    "        model.eval()\n",
    "        output = model(img)\n",
    "        _, predicted = torch.max(output.data, 1)\n",
    "        total += label.size(0)\n",
    "        correct += (predicted == label).sum().item()\n",
    "    print(f\"Accuracy of the model on the test set: {100 * correct / total}%\")"
   ]
  },
  {
   "attachments": {},
   "cell_type": "markdown",
   "metadata": {},
   "source": [
    "## 5. Other learning points\n",
    "\n",
    "As torch is written in a pythonic way, amending layers is a relatively straightforward affair.  \n",
    "\n",
    "Below is a non-exhaustive set of operations you can do:  \n",
    "1. Identifying layers in torch pretrained models\n",
    "2. Swapping out layers in torch pretrained models\n",
    "3. Adding new layers"
   ]
  },
  {
   "attachments": {},
   "cell_type": "markdown",
   "metadata": {},
   "source": [
    "### 1. Identifying layers in torch pretrained models\n",
    "\n",
    "We can identify the model layer name \n",
    "For example, we can modify the fully connected layer (fc) by getting out the attribute names:\n",
    "1. model.fc.in_features - gives us the shape of the tensor going in\n",
    "2. model.fc.out_features - can be amended from 1000 (1000 objects from imagenet) to the number of classes in our own dataset."
   ]
  },
  {
   "cell_type": "code",
   "execution_count": 1,
   "metadata": {},
   "outputs": [
    {
     "name": "stderr",
     "output_type": "stream",
     "text": [
      "/home/oem/miniconda3/envs/skin_cancer/lib/python3.9/site-packages/tqdm/auto.py:22: TqdmWarning: IProgress not found. Please update jupyter and ipywidgets. See https://ipywidgets.readthedocs.io/en/stable/user_install.html\n",
      "  from .autonotebook import tqdm as notebook_tqdm\n"
     ]
    },
    {
     "name": "stdout",
     "output_type": "stream",
     "text": [
      "Here we can see that the input is: 2048 and the output is 1000\n",
      "Linear(in_features=2048, out_features=1000, bias=True)\n"
     ]
    }
   ],
   "source": [
    "import torchvision\n",
    "from torchvision.models import resnet50, ResNet50_Weights\n",
    "from torch import nn\n",
    "from torch.nn import functional as F\n",
    "\n",
    "# You can\n",
    "m = torchvision.models.resnet50(weights=ResNet50_Weights.IMAGENET1K_V2)\n",
    "\n",
    "\n",
    "print(f\"Here we can see that the input is: {m.fc.in_features} and the output is {m.fc.out_features}\")\n",
    "print(m.fc)"
   ]
  },
  {
   "attachments": {},
   "cell_type": "markdown",
   "metadata": {},
   "source": [
    "### 2. Swapping out layers in torch pretrained models\n",
    "\n",
    "Since we can identify each layer by its name, similarly we can create our own layers (newlayer) and replace them at the corresponding point."
   ]
  },
  {
   "cell_type": "code",
   "execution_count": 2,
   "metadata": {},
   "outputs": [
    {
     "data": {
      "text/plain": [
       "Sequential(\n",
       "  (0): Conv2d(256, 128, kernel_size=(1, 1), stride=(1, 1), bias=False)\n",
       "  (1): BatchNorm2d(128, eps=1e-05, momentum=0.1, affine=True, track_running_stats=True)\n",
       ")"
      ]
     },
     "execution_count": 2,
     "metadata": {},
     "output_type": "execute_result"
    }
   ],
   "source": [
    "# Create a new sequential layer \n",
    "newlayer = nn.Sequential(\n",
    "                nn.Conv2d(256, 128, kernel_size=(1, 1), stride=(1, 1), bias=False),\n",
    "                nn.BatchNorm2d(128, eps=1e-05, momentum=0.1, affine=True, track_running_stats=True)\n",
    "            )\n",
    "\n",
    "# Assign newly created layer to existing layer\n",
    "m.layer2 = newlayer\n",
    "m.layer2"
   ]
  },
  {
   "attachments": {},
   "cell_type": "markdown",
   "metadata": {},
   "source": [
    "### 3. Adding new layers\n",
    "\n",
    "New layers can also be added to already existing architectures. For example, we can take the outputs from one layer and add it to new layers, this is different from modifying the last layer, though in some cases it might be easier to implement it this way.\n",
    "\n",
    "Please also see this article on adding layers vs replacing layers [here](https://discuss.pytorch.org/t/how-to-add-a-layer-to-an-existing-neural-network/30129/4)"
   ]
  },
  {
   "cell_type": "code",
   "execution_count": 3,
   "metadata": {},
   "outputs": [
    {
     "data": {
      "text/plain": [
       "Sequential(\n",
       "  (0): ResNet(\n",
       "    (conv1): Conv2d(3, 64, kernel_size=(7, 7), stride=(2, 2), padding=(3, 3), bias=False)\n",
       "    (bn1): BatchNorm2d(64, eps=1e-05, momentum=0.1, affine=True, track_running_stats=True)\n",
       "    (relu): ReLU(inplace=True)\n",
       "    (maxpool): MaxPool2d(kernel_size=3, stride=2, padding=1, dilation=1, ceil_mode=False)\n",
       "    (layer1): Sequential(\n",
       "      (0): Bottleneck(\n",
       "        (conv1): Conv2d(64, 64, kernel_size=(1, 1), stride=(1, 1), bias=False)\n",
       "        (bn1): BatchNorm2d(64, eps=1e-05, momentum=0.1, affine=True, track_running_stats=True)\n",
       "        (conv2): Conv2d(64, 64, kernel_size=(3, 3), stride=(1, 1), padding=(1, 1), bias=False)\n",
       "        (bn2): BatchNorm2d(64, eps=1e-05, momentum=0.1, affine=True, track_running_stats=True)\n",
       "        (conv3): Conv2d(64, 256, kernel_size=(1, 1), stride=(1, 1), bias=False)\n",
       "        (bn3): BatchNorm2d(256, eps=1e-05, momentum=0.1, affine=True, track_running_stats=True)\n",
       "        (relu): ReLU(inplace=True)\n",
       "        (downsample): Sequential(\n",
       "          (0): Conv2d(64, 256, kernel_size=(1, 1), stride=(1, 1), bias=False)\n",
       "          (1): BatchNorm2d(256, eps=1e-05, momentum=0.1, affine=True, track_running_stats=True)\n",
       "        )\n",
       "      )\n",
       "      (1): Bottleneck(\n",
       "        (conv1): Conv2d(256, 64, kernel_size=(1, 1), stride=(1, 1), bias=False)\n",
       "        (bn1): BatchNorm2d(64, eps=1e-05, momentum=0.1, affine=True, track_running_stats=True)\n",
       "        (conv2): Conv2d(64, 64, kernel_size=(3, 3), stride=(1, 1), padding=(1, 1), bias=False)\n",
       "        (bn2): BatchNorm2d(64, eps=1e-05, momentum=0.1, affine=True, track_running_stats=True)\n",
       "        (conv3): Conv2d(64, 256, kernel_size=(1, 1), stride=(1, 1), bias=False)\n",
       "        (bn3): BatchNorm2d(256, eps=1e-05, momentum=0.1, affine=True, track_running_stats=True)\n",
       "        (relu): ReLU(inplace=True)\n",
       "      )\n",
       "      (2): Bottleneck(\n",
       "        (conv1): Conv2d(256, 64, kernel_size=(1, 1), stride=(1, 1), bias=False)\n",
       "        (bn1): BatchNorm2d(64, eps=1e-05, momentum=0.1, affine=True, track_running_stats=True)\n",
       "        (conv2): Conv2d(64, 64, kernel_size=(3, 3), stride=(1, 1), padding=(1, 1), bias=False)\n",
       "        (bn2): BatchNorm2d(64, eps=1e-05, momentum=0.1, affine=True, track_running_stats=True)\n",
       "        (conv3): Conv2d(64, 256, kernel_size=(1, 1), stride=(1, 1), bias=False)\n",
       "        (bn3): BatchNorm2d(256, eps=1e-05, momentum=0.1, affine=True, track_running_stats=True)\n",
       "        (relu): ReLU(inplace=True)\n",
       "      )\n",
       "    )\n",
       "    (layer2): Sequential(\n",
       "      (0): Conv2d(256, 128, kernel_size=(1, 1), stride=(1, 1), bias=False)\n",
       "      (1): BatchNorm2d(128, eps=1e-05, momentum=0.1, affine=True, track_running_stats=True)\n",
       "    )\n",
       "    (layer3): Sequential(\n",
       "      (0): Bottleneck(\n",
       "        (conv1): Conv2d(512, 256, kernel_size=(1, 1), stride=(1, 1), bias=False)\n",
       "        (bn1): BatchNorm2d(256, eps=1e-05, momentum=0.1, affine=True, track_running_stats=True)\n",
       "        (conv2): Conv2d(256, 256, kernel_size=(3, 3), stride=(2, 2), padding=(1, 1), bias=False)\n",
       "        (bn2): BatchNorm2d(256, eps=1e-05, momentum=0.1, affine=True, track_running_stats=True)\n",
       "        (conv3): Conv2d(256, 1024, kernel_size=(1, 1), stride=(1, 1), bias=False)\n",
       "        (bn3): BatchNorm2d(1024, eps=1e-05, momentum=0.1, affine=True, track_running_stats=True)\n",
       "        (relu): ReLU(inplace=True)\n",
       "        (downsample): Sequential(\n",
       "          (0): Conv2d(512, 1024, kernel_size=(1, 1), stride=(2, 2), bias=False)\n",
       "          (1): BatchNorm2d(1024, eps=1e-05, momentum=0.1, affine=True, track_running_stats=True)\n",
       "        )\n",
       "      )\n",
       "      (1): Bottleneck(\n",
       "        (conv1): Conv2d(1024, 256, kernel_size=(1, 1), stride=(1, 1), bias=False)\n",
       "        (bn1): BatchNorm2d(256, eps=1e-05, momentum=0.1, affine=True, track_running_stats=True)\n",
       "        (conv2): Conv2d(256, 256, kernel_size=(3, 3), stride=(1, 1), padding=(1, 1), bias=False)\n",
       "        (bn2): BatchNorm2d(256, eps=1e-05, momentum=0.1, affine=True, track_running_stats=True)\n",
       "        (conv3): Conv2d(256, 1024, kernel_size=(1, 1), stride=(1, 1), bias=False)\n",
       "        (bn3): BatchNorm2d(1024, eps=1e-05, momentum=0.1, affine=True, track_running_stats=True)\n",
       "        (relu): ReLU(inplace=True)\n",
       "      )\n",
       "      (2): Bottleneck(\n",
       "        (conv1): Conv2d(1024, 256, kernel_size=(1, 1), stride=(1, 1), bias=False)\n",
       "        (bn1): BatchNorm2d(256, eps=1e-05, momentum=0.1, affine=True, track_running_stats=True)\n",
       "        (conv2): Conv2d(256, 256, kernel_size=(3, 3), stride=(1, 1), padding=(1, 1), bias=False)\n",
       "        (bn2): BatchNorm2d(256, eps=1e-05, momentum=0.1, affine=True, track_running_stats=True)\n",
       "        (conv3): Conv2d(256, 1024, kernel_size=(1, 1), stride=(1, 1), bias=False)\n",
       "        (bn3): BatchNorm2d(1024, eps=1e-05, momentum=0.1, affine=True, track_running_stats=True)\n",
       "        (relu): ReLU(inplace=True)\n",
       "      )\n",
       "      (3): Bottleneck(\n",
       "        (conv1): Conv2d(1024, 256, kernel_size=(1, 1), stride=(1, 1), bias=False)\n",
       "        (bn1): BatchNorm2d(256, eps=1e-05, momentum=0.1, affine=True, track_running_stats=True)\n",
       "        (conv2): Conv2d(256, 256, kernel_size=(3, 3), stride=(1, 1), padding=(1, 1), bias=False)\n",
       "        (bn2): BatchNorm2d(256, eps=1e-05, momentum=0.1, affine=True, track_running_stats=True)\n",
       "        (conv3): Conv2d(256, 1024, kernel_size=(1, 1), stride=(1, 1), bias=False)\n",
       "        (bn3): BatchNorm2d(1024, eps=1e-05, momentum=0.1, affine=True, track_running_stats=True)\n",
       "        (relu): ReLU(inplace=True)\n",
       "      )\n",
       "      (4): Bottleneck(\n",
       "        (conv1): Conv2d(1024, 256, kernel_size=(1, 1), stride=(1, 1), bias=False)\n",
       "        (bn1): BatchNorm2d(256, eps=1e-05, momentum=0.1, affine=True, track_running_stats=True)\n",
       "        (conv2): Conv2d(256, 256, kernel_size=(3, 3), stride=(1, 1), padding=(1, 1), bias=False)\n",
       "        (bn2): BatchNorm2d(256, eps=1e-05, momentum=0.1, affine=True, track_running_stats=True)\n",
       "        (conv3): Conv2d(256, 1024, kernel_size=(1, 1), stride=(1, 1), bias=False)\n",
       "        (bn3): BatchNorm2d(1024, eps=1e-05, momentum=0.1, affine=True, track_running_stats=True)\n",
       "        (relu): ReLU(inplace=True)\n",
       "      )\n",
       "      (5): Bottleneck(\n",
       "        (conv1): Conv2d(1024, 256, kernel_size=(1, 1), stride=(1, 1), bias=False)\n",
       "        (bn1): BatchNorm2d(256, eps=1e-05, momentum=0.1, affine=True, track_running_stats=True)\n",
       "        (conv2): Conv2d(256, 256, kernel_size=(3, 3), stride=(1, 1), padding=(1, 1), bias=False)\n",
       "        (bn2): BatchNorm2d(256, eps=1e-05, momentum=0.1, affine=True, track_running_stats=True)\n",
       "        (conv3): Conv2d(256, 1024, kernel_size=(1, 1), stride=(1, 1), bias=False)\n",
       "        (bn3): BatchNorm2d(1024, eps=1e-05, momentum=0.1, affine=True, track_running_stats=True)\n",
       "        (relu): ReLU(inplace=True)\n",
       "      )\n",
       "    )\n",
       "    (layer4): Sequential(\n",
       "      (0): Bottleneck(\n",
       "        (conv1): Conv2d(1024, 512, kernel_size=(1, 1), stride=(1, 1), bias=False)\n",
       "        (bn1): BatchNorm2d(512, eps=1e-05, momentum=0.1, affine=True, track_running_stats=True)\n",
       "        (conv2): Conv2d(512, 512, kernel_size=(3, 3), stride=(2, 2), padding=(1, 1), bias=False)\n",
       "        (bn2): BatchNorm2d(512, eps=1e-05, momentum=0.1, affine=True, track_running_stats=True)\n",
       "        (conv3): Conv2d(512, 2048, kernel_size=(1, 1), stride=(1, 1), bias=False)\n",
       "        (bn3): BatchNorm2d(2048, eps=1e-05, momentum=0.1, affine=True, track_running_stats=True)\n",
       "        (relu): ReLU(inplace=True)\n",
       "        (downsample): Sequential(\n",
       "          (0): Conv2d(1024, 2048, kernel_size=(1, 1), stride=(2, 2), bias=False)\n",
       "          (1): BatchNorm2d(2048, eps=1e-05, momentum=0.1, affine=True, track_running_stats=True)\n",
       "        )\n",
       "      )\n",
       "      (1): Bottleneck(\n",
       "        (conv1): Conv2d(2048, 512, kernel_size=(1, 1), stride=(1, 1), bias=False)\n",
       "        (bn1): BatchNorm2d(512, eps=1e-05, momentum=0.1, affine=True, track_running_stats=True)\n",
       "        (conv2): Conv2d(512, 512, kernel_size=(3, 3), stride=(1, 1), padding=(1, 1), bias=False)\n",
       "        (bn2): BatchNorm2d(512, eps=1e-05, momentum=0.1, affine=True, track_running_stats=True)\n",
       "        (conv3): Conv2d(512, 2048, kernel_size=(1, 1), stride=(1, 1), bias=False)\n",
       "        (bn3): BatchNorm2d(2048, eps=1e-05, momentum=0.1, affine=True, track_running_stats=True)\n",
       "        (relu): ReLU(inplace=True)\n",
       "      )\n",
       "      (2): Bottleneck(\n",
       "        (conv1): Conv2d(2048, 512, kernel_size=(1, 1), stride=(1, 1), bias=False)\n",
       "        (bn1): BatchNorm2d(512, eps=1e-05, momentum=0.1, affine=True, track_running_stats=True)\n",
       "        (conv2): Conv2d(512, 512, kernel_size=(3, 3), stride=(1, 1), padding=(1, 1), bias=False)\n",
       "        (bn2): BatchNorm2d(512, eps=1e-05, momentum=0.1, affine=True, track_running_stats=True)\n",
       "        (conv3): Conv2d(512, 2048, kernel_size=(1, 1), stride=(1, 1), bias=False)\n",
       "        (bn3): BatchNorm2d(2048, eps=1e-05, momentum=0.1, affine=True, track_running_stats=True)\n",
       "        (relu): ReLU(inplace=True)\n",
       "      )\n",
       "    )\n",
       "    (avgpool): AdaptiveAvgPool2d(output_size=(1, 1))\n",
       "    (fc): Linear(in_features=2048, out_features=1000, bias=True)\n",
       "  )\n",
       "  (1): Conv2d(1000, 128, kernel_size=(1, 1), stride=(1, 1), bias=False)\n",
       ")"
      ]
     },
     "execution_count": 3,
     "metadata": {},
     "output_type": "execute_result"
    }
   ],
   "source": [
    "# taking the fully connected out_features and adding it to the new sequential\n",
    "newlayer = nn.Conv2d(m.fc.out_features, 128, kernel_size=(1, 1), stride=(1, 1), bias=False)\n",
    "\n",
    "new_model = nn.Sequential(m, newlayer)\n",
    "new_model"
   ]
  },
  {
   "attachments": {},
   "cell_type": "markdown",
   "metadata": {},
   "source": [
    "### Note of Caution\n",
    "\n",
    "You might be tempted to edit the model after instantiating the object. However, I think its cleaner, clearer (and perhaps less buggy), if the models were modified during instantiation as per below."
   ]
  },
  {
   "cell_type": "code",
   "execution_count": 4,
   "metadata": {},
   "outputs": [],
   "source": [
    "class MyModel(nn.Module):\n",
    "    def __init__(self, in_features, nb_classes, nb_hidden_layer, \n",
    "        hidden_size, act=nn.ReLU):\n",
    "        super(MyModel, self).__init__()\n",
    "        self.act = act()\n",
    "        \n",
    "        self.fc1 = nn.Linear(in_features, hidden_size)\n",
    "        self.fcs = nn.ModuleList([nn.Linear(hidden_size, hidden_size)])\n",
    "        self.out = nn.Linear(hidden_size, nb_classes)\n",
    "        \n",
    "    def forward(self, x):\n",
    "        x = self.act(self.fc1(x))\n",
    "        for l in self.fcs:\n",
    "            x = F.relu(l(x))\n",
    "        x = self.out(x)\n",
    "        return x\n",
    "            \n",
    "model = MyModel(2, 3, 4, 5, nn.ReLU)"
   ]
  },
  {
   "cell_type": "code",
   "execution_count": null,
   "metadata": {},
   "outputs": [],
   "source": []
  }
 ],
 "metadata": {
  "kernelspec": {
   "display_name": "skin_cancer",
   "language": "python",
   "name": "python3"
  },
  "language_info": {
   "codemirror_mode": {
    "name": "ipython",
    "version": 3
   },
   "file_extension": ".py",
   "mimetype": "text/x-python",
   "name": "python",
   "nbconvert_exporter": "python",
   "pygments_lexer": "ipython3",
   "version": "3.9.15"
  },
  "orig_nbformat": 4,
  "vscode": {
   "interpreter": {
    "hash": "a7455868454a19ea7dd6c625dbb606deb8fae83cfa0f0f84e5c0ef92922f1079"
   }
  }
 },
 "nbformat": 4,
 "nbformat_minor": 2
}
