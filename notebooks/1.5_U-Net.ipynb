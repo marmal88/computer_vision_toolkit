{
 "cells": [
  {
   "attachments": {},
   "cell_type": "markdown",
   "metadata": {},
   "source": [
    "# U-NET\n",
    "\n",
    "This is an implementation of U2-Net as published by paper in [here](https://arxiv.org/abs/2005.09007)"
   ]
  },
  {
   "cell_type": "code",
   "execution_count": 1,
   "metadata": {},
   "outputs": [
    {
     "name": "stderr",
     "output_type": "stream",
     "text": [
      "/home/oem/miniconda3/envs/skin_cancer/lib/python3.9/site-packages/tqdm/auto.py:22: TqdmWarning: IProgress not found. Please update jupyter and ipywidgets. See https://ipywidgets.readthedocs.io/en/stable/user_install.html\n",
      "  from .autonotebook import tqdm as notebook_tqdm\n"
     ]
    }
   ],
   "source": [
    "import torch\n",
    "from torch.utils.data import DataLoader\n",
    "from torch import nn\n",
    "import torchvision "
   ]
  },
  {
   "attachments": {},
   "cell_type": "markdown",
   "metadata": {},
   "source": [
    "U2Net Implementation structure\n",
    "\n",
    "\n",
    "<img src=\"/home/oem/Documents/coding/personal/computer_vision_toolkit/assets/U2net.png\"  width=\"600\" height=\"500\">"
   ]
  },
  {
   "cell_type": "code",
   "execution_count": 2,
   "metadata": {},
   "outputs": [],
   "source": [
    "# repeated application of two 3x3 convolutions (unpadded convolutions)\n",
    "def double_conv(in_ch, out_ch):\n",
    "    # Blue arrows\n",
    "    conv = nn.Sequential(\n",
    "                nn.Conv2d(in_ch, out_ch, kernel_size=3),\n",
    "                nn.ReLU(inplace=True),\n",
    "                nn.Conv2d(out_ch, out_ch, kernel_size=3),\n",
    "                nn.ReLU(inplace=True)\n",
    "            )\n",
    "    return conv\n",
    "\n",
    "# \n",
    "def crop_img(tensor, target_tensor):\n",
    "    # White blocks\n",
    "    target_size = target_tensor.shape[2]    # get height of target\n",
    "    tensor_size = tensor.shape[2]           # get present tensor height\n",
    "    diff = tensor_size - target_size\n",
    "    diff = diff//2\n",
    "\n",
    "    return tensor[:, :, diff:tensor_size-diff, diff:tensor_size-diff]"
   ]
  },
  {
   "cell_type": "code",
   "execution_count": 7,
   "metadata": {},
   "outputs": [],
   "source": [
    "class UNet(nn.Module):\n",
    "    def __init__(self):\n",
    "        super().__init__()\n",
    "        # left side \n",
    "        self.max_pool = nn.MaxPool2d(kernel_size=2, stride=2)\n",
    "        self.down_conv_1 = double_conv(1,64)\n",
    "        self.down_conv_2 = double_conv(64,128)\n",
    "        self.down_conv_3 = double_conv(128,256)\n",
    "        self.down_conv_4 = double_conv(256,512)\n",
    "        self.down_conv_5 = double_conv(512,1024)\n",
    "        # right side\n",
    "        self.up_trans_1 = nn.ConvTranspose2d(1024, 512, kernel_size=2, stride=2)\n",
    "        self.up_conv_1 = double_conv(1024,512)\n",
    "        self.up_trans_2 = nn.ConvTranspose2d(512, 256, kernel_size=2, stride=2)\n",
    "        self.up_conv_2 = double_conv(512,256)\n",
    "        self.up_trans_3 = nn.ConvTranspose2d(256, 128, kernel_size=2, stride=2)\n",
    "        self.up_conv_3 = double_conv(256,128)\n",
    "        self.up_trans_4 = nn.ConvTranspose2d(128, 64, kernel_size=2, stride=2)\n",
    "        self.up_conv_4 = double_conv(128,64)\n",
    "        self.out = nn.Conv2d(64,2,kernel_size=1)\n",
    "\n",
    "    def forward(self, x):\n",
    "        # left side\n",
    "        x1 = self.down_conv_1(x) # skip connection\n",
    "        x2 = self.max_pool(x1)\n",
    "        x3 = self.down_conv_2(x2) # skip connection\n",
    "        x4 = self.max_pool(x3)\n",
    "        x5 = self.down_conv_3(x4) # skip connection\n",
    "        x6 = self.max_pool(x5)\n",
    "        x7 = self.down_conv_4(x6) # skip connection\n",
    "        x8 = self.max_pool(x7)\n",
    "        x9 = self.down_conv_5(x8)\n",
    "        # right side\n",
    "        x = self.up_trans_1(x9) # upsampling\n",
    "        y = crop_img(x7, x)\n",
    "        x = self.up_conv_1(torch.cat([y,x],1))\n",
    "        x = self.up_trans_2(x)\n",
    "        y = crop_img(x5, x)\n",
    "        x = self.up_conv_2(torch.cat([y,x],1))\n",
    "        x = self.up_trans_3(x)\n",
    "        y = crop_img(x3, x)\n",
    "        x = self.up_conv_3(torch.cat([y,x],1))\n",
    "        x = self.up_trans_4(x)\n",
    "        y = crop_img(x1, x)\n",
    "        x = self.up_conv_4(torch.cat([y,x],1))\n",
    "        x = self.out(x)\n",
    "\n",
    "        return x\n",
    "\n"
   ]
  },
  {
   "cell_type": "code",
   "execution_count": 8,
   "metadata": {},
   "outputs": [
    {
     "name": "stdout",
     "output_type": "stream",
     "text": [
      "torch.Size([1, 2, 388, 388])\n"
     ]
    }
   ],
   "source": [
    "a = torch.rand((1,1,572,572))\n",
    "model = UNet()\n",
    "\n",
    "model(a)"
   ]
  },
  {
   "attachments": {},
   "cell_type": "markdown",
   "metadata": {},
   "source": [
    "## Difference between UpSampling2d and ConvTranspose2d\n",
    "\n",
    "- Upsampling (opposite of maxpooling) - Expands the existing dimensions of the image\n",
    "- ConvTranspose2d performs upsampling and convolution"
   ]
  },
  {
   "cell_type": "code",
   "execution_count": null,
   "metadata": {},
   "outputs": [],
   "source": []
  }
 ],
 "metadata": {
  "kernelspec": {
   "display_name": "skin_cancer",
   "language": "python",
   "name": "python3"
  },
  "language_info": {
   "codemirror_mode": {
    "name": "ipython",
    "version": 3
   },
   "file_extension": ".py",
   "mimetype": "text/x-python",
   "name": "python",
   "nbconvert_exporter": "python",
   "pygments_lexer": "ipython3",
   "version": "3.9.15"
  },
  "orig_nbformat": 4,
  "vscode": {
   "interpreter": {
    "hash": "a7455868454a19ea7dd6c625dbb606deb8fae83cfa0f0f84e5c0ef92922f1079"
   }
  }
 },
 "nbformat": 4,
 "nbformat_minor": 2
}
