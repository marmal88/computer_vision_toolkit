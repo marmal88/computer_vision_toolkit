{
 "cells": [
  {
   "attachments": {},
   "cell_type": "markdown",
   "metadata": {},
   "source": [
    "# Calculating the Similarity between images\n",
    "\n"
   ]
  },
  {
   "cell_type": "code",
   "execution_count": 13,
   "metadata": {},
   "outputs": [],
   "source": [
    "import torch\n",
    "from torch import nn\n",
    "import torchvision\n",
    "from torchvision import transforms as T\n",
    "from torchvision.models import resnet50, ResNet50_Weights\n",
    "from torch.utils.data import DataLoader\n",
    "import os\n",
    "import numpy as np\n",
    "import pandas as pd\n",
    "from tqdm import tqdm"
   ]
  },
  {
   "cell_type": "code",
   "execution_count": 14,
   "metadata": {},
   "outputs": [],
   "source": [
    "# insert your own root directory\n",
    "path_to_root = \"/home/oem/Documents/coding/personal/computer_vision_toolkit\"\n",
    "os.chdir(path_to_root)\n",
    "from src.dataset import CustomImageDataset"
   ]
  },
  {
   "cell_type": "code",
   "execution_count": 15,
   "metadata": {},
   "outputs": [],
   "source": [
    "# Utilize the transforms from the resnet itself\n",
    "weights = torchvision.models.ResNet50_Weights.IMAGENET1K_V2\n",
    "transform = weights.transforms()\n",
    "dataset = CustomImageDataset(\"notebooks/dataset_trunctated.csv\", transform)"
   ]
  },
  {
   "cell_type": "code",
   "execution_count": 16,
   "metadata": {},
   "outputs": [],
   "source": [
    "# Ensure that shuffle is set to false as we will be appending the output array back to the dataframe.\n",
    "dataloader = DataLoader(dataset, batch_size=100, shuffle=False)"
   ]
  },
  {
   "cell_type": "code",
   "execution_count": 17,
   "metadata": {},
   "outputs": [],
   "source": [
    "class ClassifierModel:\n",
    "    def __init__(self, weights):\n",
    "        self.model = torchvision.models.resnet50(weights=weights)\n",
    "        modules = list(self.model.children())[:-1]\n",
    "        self.model = nn.Sequential(*modules)\n",
    "        self.model.eval()\n",
    "\n",
    "    def get_embedding(self, batch):\n",
    "        with torch.no_grad():\n",
    "            batch = self.model(batch).squeeze()\n",
    "            batch = batch.detach().numpy()\n",
    "\n",
    "            return batch"
   ]
  },
  {
   "cell_type": "code",
   "execution_count": 18,
   "metadata": {},
   "outputs": [
    {
     "data": {
      "text/html": [
       "<div>\n",
       "<style scoped>\n",
       "    .dataframe tbody tr th:only-of-type {\n",
       "        vertical-align: middle;\n",
       "    }\n",
       "\n",
       "    .dataframe tbody tr th {\n",
       "        vertical-align: top;\n",
       "    }\n",
       "\n",
       "    .dataframe thead th {\n",
       "        text-align: right;\n",
       "    }\n",
       "</style>\n",
       "<table border=\"1\" class=\"dataframe\">\n",
       "  <thead>\n",
       "    <tr style=\"text-align: right;\">\n",
       "      <th></th>\n",
       "      <th>file_name</th>\n",
       "      <th>image_id</th>\n",
       "      <th>lesion_id</th>\n",
       "      <th>dx</th>\n",
       "      <th>dx_type</th>\n",
       "      <th>age</th>\n",
       "      <th>sex</th>\n",
       "      <th>localization</th>\n",
       "      <th>label</th>\n",
       "    </tr>\n",
       "  </thead>\n",
       "  <tbody>\n",
       "    <tr>\n",
       "      <th>0</th>\n",
       "      <td>data/ham10000_images_part_2/ISIC_0031774.jpg</td>\n",
       "      <td>ISIC_0031774</td>\n",
       "      <td>HAM_0002275</td>\n",
       "      <td>melanocytic_Nevi</td>\n",
       "      <td>follow_up</td>\n",
       "      <td>45.0</td>\n",
       "      <td>female</td>\n",
       "      <td>lower extremity</td>\n",
       "      <td>0</td>\n",
       "    </tr>\n",
       "    <tr>\n",
       "      <th>1</th>\n",
       "      <td>data/ham10000_images_part_2/ISIC_0030527.jpg</td>\n",
       "      <td>ISIC_0030527</td>\n",
       "      <td>HAM_0006713</td>\n",
       "      <td>melanocytic_Nevi</td>\n",
       "      <td>follow_up</td>\n",
       "      <td>50.0</td>\n",
       "      <td>female</td>\n",
       "      <td>trunk</td>\n",
       "      <td>0</td>\n",
       "    </tr>\n",
       "    <tr>\n",
       "      <th>2</th>\n",
       "      <td>data/ham10000_images_part_2/ISIC_0033561.jpg</td>\n",
       "      <td>ISIC_0033561</td>\n",
       "      <td>HAM_0004708</td>\n",
       "      <td>melanocytic_Nevi</td>\n",
       "      <td>histo</td>\n",
       "      <td>45.0</td>\n",
       "      <td>male</td>\n",
       "      <td>trunk</td>\n",
       "      <td>0</td>\n",
       "    </tr>\n",
       "    <tr>\n",
       "      <th>3</th>\n",
       "      <td>data/ham10000_images_part_2/ISIC_0034041.jpg</td>\n",
       "      <td>ISIC_0034041</td>\n",
       "      <td>HAM_0005496</td>\n",
       "      <td>melanocytic_Nevi</td>\n",
       "      <td>histo</td>\n",
       "      <td>15.0</td>\n",
       "      <td>female</td>\n",
       "      <td>lower extremity</td>\n",
       "      <td>0</td>\n",
       "    </tr>\n",
       "    <tr>\n",
       "      <th>4</th>\n",
       "      <td>data/ham10000_images_part_2/ISIC_0031369.jpg</td>\n",
       "      <td>ISIC_0031369</td>\n",
       "      <td>HAM_0000531</td>\n",
       "      <td>melanoma</td>\n",
       "      <td>histo</td>\n",
       "      <td>85.0</td>\n",
       "      <td>male</td>\n",
       "      <td>face</td>\n",
       "      <td>1</td>\n",
       "    </tr>\n",
       "  </tbody>\n",
       "</table>\n",
       "</div>"
      ],
      "text/plain": [
       "                                      file_name      image_id    lesion_id  \\\n",
       "0  data/ham10000_images_part_2/ISIC_0031774.jpg  ISIC_0031774  HAM_0002275   \n",
       "1  data/ham10000_images_part_2/ISIC_0030527.jpg  ISIC_0030527  HAM_0006713   \n",
       "2  data/ham10000_images_part_2/ISIC_0033561.jpg  ISIC_0033561  HAM_0004708   \n",
       "3  data/ham10000_images_part_2/ISIC_0034041.jpg  ISIC_0034041  HAM_0005496   \n",
       "4  data/ham10000_images_part_2/ISIC_0031369.jpg  ISIC_0031369  HAM_0000531   \n",
       "\n",
       "                 dx    dx_type   age     sex     localization  label  \n",
       "0  melanocytic_Nevi  follow_up  45.0  female  lower extremity      0  \n",
       "1  melanocytic_Nevi  follow_up  50.0  female            trunk      0  \n",
       "2  melanocytic_Nevi      histo  45.0    male            trunk      0  \n",
       "3  melanocytic_Nevi      histo  15.0  female  lower extremity      0  \n",
       "4          melanoma      histo  85.0    male             face      1  "
      ]
     },
     "execution_count": 18,
     "metadata": {},
     "output_type": "execute_result"
    }
   ],
   "source": [
    "files_df = pd.read_csv(\"notebooks/dataset_trunctated.csv\")\n",
    "files_df.head()"
   ]
  },
  {
   "cell_type": "code",
   "execution_count": 19,
   "metadata": {},
   "outputs": [
    {
     "name": "stderr",
     "output_type": "stream",
     "text": [
      "100%|██████████| 10/10 [03:44<00:00, 22.47s/it]\n"
     ]
    }
   ],
   "source": [
    "ls_tensor = []\n",
    "for sample, _ in tqdm(dataloader):\n",
    "    embedding = ClassifierModel(weights).get_embedding(sample)\n",
    "    ls_tensor.append(embedding)\n",
    "\n",
    "ls_tensor = np.vstack(ls_tensor)"
   ]
  },
  {
   "attachments": {},
   "cell_type": "markdown",
   "metadata": {},
   "source": [
    "Calculate the similarity score"
   ]
  },
  {
   "cell_type": "code",
   "execution_count": 20,
   "metadata": {},
   "outputs": [
    {
     "data": {
      "text/plain": [
       "array([[0.        , 0.68474674, 0.56418365, ..., 0.65904576, 0.5718129 ,\n",
       "        0.5503208 ],\n",
       "       [0.        , 0.        , 0.38249406, ..., 0.692612  , 0.47265816,\n",
       "        0.49114147],\n",
       "       [0.        , 0.        , 0.        , ..., 0.42406806, 0.39262268,\n",
       "        0.6326931 ],\n",
       "       ...,\n",
       "       [0.        , 0.        , 0.        , ..., 0.        , 0.5163081 ,\n",
       "        0.616625  ],\n",
       "       [0.        , 0.        , 0.        , ..., 0.        , 0.        ,\n",
       "        0.49040404],\n",
       "       [0.        , 0.        , 0.        , ..., 0.        , 0.        ,\n",
       "        0.        ]], dtype=float32)"
      ]
     },
     "execution_count": 20,
     "metadata": {},
     "output_type": "execute_result"
    }
   ],
   "source": [
    "norm = np.linalg.norm(ls_tensor, axis=1).reshape(-1, 1)\n",
    "cos_sim_matrix = np.matmul(ls_tensor, ls_tensor.T) / np.matmul(norm, norm.T)\n",
    "# Since we do not wish to double count we make only the upper triangle values available and change the other variables to 1\n",
    "cos_sim_matrix = np.triu(cos_sim_matrix, k=1)\n",
    "cos_sim_matrix"
   ]
  },
  {
   "attachments": {},
   "cell_type": "markdown",
   "metadata": {},
   "source": [
    "subset the matrix"
   ]
  },
  {
   "cell_type": "code",
   "execution_count": 21,
   "metadata": {},
   "outputs": [],
   "source": [
    "# for each value in the triu(cos_sim_matrix) that is >0.9 we can get the value and return as 1\n",
    "\n",
    "ls_similar_img = np.zeros(len(files_df))\n",
    "rows, cols = np.nonzero(cos_sim_matrix > 0.9)\n",
    "for row, col in zip(rows, cols):\n",
    "    ls_similar_img[row] = 1\n",
    "    ls_similar_img[col] = 1"
   ]
  },
  {
   "attachments": {},
   "cell_type": "markdown",
   "metadata": {},
   "source": [
    "Append the numpy array of similar features to the existing dataframe"
   ]
  },
  {
   "cell_type": "code",
   "execution_count": 22,
   "metadata": {},
   "outputs": [
    {
     "data": {
      "text/html": [
       "<div>\n",
       "<style scoped>\n",
       "    .dataframe tbody tr th:only-of-type {\n",
       "        vertical-align: middle;\n",
       "    }\n",
       "\n",
       "    .dataframe tbody tr th {\n",
       "        vertical-align: top;\n",
       "    }\n",
       "\n",
       "    .dataframe thead th {\n",
       "        text-align: right;\n",
       "    }\n",
       "</style>\n",
       "<table border=\"1\" class=\"dataframe\">\n",
       "  <thead>\n",
       "    <tr style=\"text-align: right;\">\n",
       "      <th></th>\n",
       "      <th>file_name</th>\n",
       "      <th>image_id</th>\n",
       "      <th>lesion_id</th>\n",
       "      <th>dx</th>\n",
       "      <th>dx_type</th>\n",
       "      <th>age</th>\n",
       "      <th>sex</th>\n",
       "      <th>localization</th>\n",
       "      <th>label</th>\n",
       "      <th>similar</th>\n",
       "    </tr>\n",
       "  </thead>\n",
       "  <tbody>\n",
       "    <tr>\n",
       "      <th>0</th>\n",
       "      <td>data/ham10000_images_part_2/ISIC_0031774.jpg</td>\n",
       "      <td>ISIC_0031774</td>\n",
       "      <td>HAM_0002275</td>\n",
       "      <td>melanocytic_Nevi</td>\n",
       "      <td>follow_up</td>\n",
       "      <td>45.0</td>\n",
       "      <td>female</td>\n",
       "      <td>lower extremity</td>\n",
       "      <td>0</td>\n",
       "      <td>0.0</td>\n",
       "    </tr>\n",
       "    <tr>\n",
       "      <th>1</th>\n",
       "      <td>data/ham10000_images_part_2/ISIC_0030527.jpg</td>\n",
       "      <td>ISIC_0030527</td>\n",
       "      <td>HAM_0006713</td>\n",
       "      <td>melanocytic_Nevi</td>\n",
       "      <td>follow_up</td>\n",
       "      <td>50.0</td>\n",
       "      <td>female</td>\n",
       "      <td>trunk</td>\n",
       "      <td>0</td>\n",
       "      <td>1.0</td>\n",
       "    </tr>\n",
       "    <tr>\n",
       "      <th>2</th>\n",
       "      <td>data/ham10000_images_part_2/ISIC_0033561.jpg</td>\n",
       "      <td>ISIC_0033561</td>\n",
       "      <td>HAM_0004708</td>\n",
       "      <td>melanocytic_Nevi</td>\n",
       "      <td>histo</td>\n",
       "      <td>45.0</td>\n",
       "      <td>male</td>\n",
       "      <td>trunk</td>\n",
       "      <td>0</td>\n",
       "      <td>1.0</td>\n",
       "    </tr>\n",
       "    <tr>\n",
       "      <th>3</th>\n",
       "      <td>data/ham10000_images_part_2/ISIC_0034041.jpg</td>\n",
       "      <td>ISIC_0034041</td>\n",
       "      <td>HAM_0005496</td>\n",
       "      <td>melanocytic_Nevi</td>\n",
       "      <td>histo</td>\n",
       "      <td>15.0</td>\n",
       "      <td>female</td>\n",
       "      <td>lower extremity</td>\n",
       "      <td>0</td>\n",
       "      <td>1.0</td>\n",
       "    </tr>\n",
       "    <tr>\n",
       "      <th>4</th>\n",
       "      <td>data/ham10000_images_part_2/ISIC_0031369.jpg</td>\n",
       "      <td>ISIC_0031369</td>\n",
       "      <td>HAM_0000531</td>\n",
       "      <td>melanoma</td>\n",
       "      <td>histo</td>\n",
       "      <td>85.0</td>\n",
       "      <td>male</td>\n",
       "      <td>face</td>\n",
       "      <td>1</td>\n",
       "      <td>0.0</td>\n",
       "    </tr>\n",
       "  </tbody>\n",
       "</table>\n",
       "</div>"
      ],
      "text/plain": [
       "                                      file_name      image_id    lesion_id  \\\n",
       "0  data/ham10000_images_part_2/ISIC_0031774.jpg  ISIC_0031774  HAM_0002275   \n",
       "1  data/ham10000_images_part_2/ISIC_0030527.jpg  ISIC_0030527  HAM_0006713   \n",
       "2  data/ham10000_images_part_2/ISIC_0033561.jpg  ISIC_0033561  HAM_0004708   \n",
       "3  data/ham10000_images_part_2/ISIC_0034041.jpg  ISIC_0034041  HAM_0005496   \n",
       "4  data/ham10000_images_part_2/ISIC_0031369.jpg  ISIC_0031369  HAM_0000531   \n",
       "\n",
       "                 dx    dx_type   age     sex     localization  label  similar  \n",
       "0  melanocytic_Nevi  follow_up  45.0  female  lower extremity      0      0.0  \n",
       "1  melanocytic_Nevi  follow_up  50.0  female            trunk      0      1.0  \n",
       "2  melanocytic_Nevi      histo  45.0    male            trunk      0      1.0  \n",
       "3  melanocytic_Nevi      histo  15.0  female  lower extremity      0      1.0  \n",
       "4          melanoma      histo  85.0    male             face      1      0.0  "
      ]
     },
     "execution_count": 22,
     "metadata": {},
     "output_type": "execute_result"
    }
   ],
   "source": [
    "# Attach back the results back to the dataframe\n",
    "files_df[\"similar\"] = ls_similar_img \n",
    "files_df.head()"
   ]
  },
  {
   "cell_type": "code",
   "execution_count": null,
   "metadata": {},
   "outputs": [],
   "source": []
  }
 ],
 "metadata": {
  "kernelspec": {
   "display_name": "skin_cancer",
   "language": "python",
   "name": "python3"
  },
  "language_info": {
   "codemirror_mode": {
    "name": "ipython",
    "version": 3
   },
   "file_extension": ".py",
   "mimetype": "text/x-python",
   "name": "python",
   "nbconvert_exporter": "python",
   "pygments_lexer": "ipython3",
   "version": "3.9.15"
  },
  "orig_nbformat": 4,
  "vscode": {
   "interpreter": {
    "hash": "a7455868454a19ea7dd6c625dbb606deb8fae83cfa0f0f84e5c0ef92922f1079"
   }
  }
 },
 "nbformat": 4,
 "nbformat_minor": 2
}
